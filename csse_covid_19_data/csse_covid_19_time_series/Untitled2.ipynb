{
 "cells": [
  {
   "cell_type": "code",
   "execution_count": null,
   "metadata": {},
   "outputs": [
    {
     "name": "stdout",
     "output_type": "stream",
     "text": [
      "253\n",
      "239\n",
      "253\n",
      "253\n",
      "239\n",
      "253\n"
     ]
    }
   ],
   "source": [
    "import pandas as pd\n",
    "\n",
    "data_confirmed = pd.read_csv(\"time_series_covid19_confirmed_global.csv\")\n",
    "data_recovered = pd.read_csv(\"time_series_covid19_recovered_global.csv\")\n",
    "data_death     = pd.read_csv(\"time_series_covid19_deaths_global.csv\")\n",
    "\n",
    "print(len(data_confirmed))\n",
    "print(len(data_recovered))\n",
    "print(len(data_death))\n",
    "#data_salida_confirmed = data_confirmed[[\"Province/State\",\"Country/Region\",\"Lat\",\"Long\"]]\n",
    "#data_salida_recovered = data_recovered[[\"Province/State\",\"Country/Region\",\"Lat\",\"Long\"]]\n",
    "#data_salida_death = data_death[[\"Province/State\",\"Country/Region\",\"Lat\",\"Long\"]]\n",
    "\n",
    "data_salida_confirmed = pd.DataFrame() \n",
    "data_salida_recovered = pd.DataFrame()\n",
    "data_salida_death = pd.DataFrame()\n",
    "data_salida_confirmed[\"Province/State\"] = data_confirmed[\"Province/State\"] \n",
    "data_salida_confirmed[\"Country/Region\"] = data_confirmed[\"Country/Region\"] \n",
    "data_salida_confirmed[\"Lat\"] = data_confirmed[\"Lat\"]\n",
    "data_salida_confirmed[\"Long\"] = data_confirmed[\"Long\"]\n",
    "\n",
    "data_salida_recovered[\"Province/State\"] = data_recovered[\"Province/State\"] \n",
    "data_salida_recovered[\"Country/Region\"] = data_recovered[\"Country/Region\"] \n",
    "data_salida_recovered[\"Lat\"] = data_recovered[\"Lat\"]\n",
    "data_salida_recovered[\"Long\"] = data_recovered[\"Long\"]\n",
    "\n",
    "data_salida_death[\"Province/State\"] = data_death[\"Province/State\"] \n",
    "data_salida_death[\"Country/Region\"] = data_death[\"Country/Region\"] \n",
    "data_salida_death[\"Lat\"] = data_death[\"Lat\"]\n",
    "data_salida_death[\"Long\"] = data_death[\"Long\"]\n",
    "\n",
    "\n",
    "columna_anterior = \"\"\n",
    "for columna in data_confirmed.columns[5:]:\n",
    "    if(columna_anterior == \"\"):\n",
    "        #print(\"no se hace nada\")\n",
    "        pass\n",
    "    else:\n",
    "        #print(columna + \" y \" + columna_anterior)\n",
    "        data_salida_confirmed[columna] = data_confirmed[columna] - data_confirmed[columna_anterior]\n",
    "        data_salida_recovered[columna] = data_recovered[columna] - data_recovered[columna_anterior]\n",
    "        data_salida_death[columna]     = data_death[columna]     - data_death[columna_anterior]\n",
    "    columna_anterior = columna\n",
    "    \n",
    "entrada = {\"Province/State\":\"\"}   #,\"Country/Region\":\"\",\"Lat\":\"\",\"Long\":\"\"}\n",
    "salida = []\n",
    "#index = 0\n",
    "#data_salida = pd.DataFrame()\n",
    "\n",
    "data_salida = pd.DataFrame(columns=data_salida_confirmed.columns[:4])\n",
    "\n",
    "lista_confirmed = list(data_salida_confirmed.iterrows())\n",
    "lista_recovered = list(data_salida_recovered.iterrows())\n",
    "lista_death = list(data_salida_death.iterrows())\n",
    "\n",
    "print(len(lista_confirmed))\n",
    "print(len(lista_recovered))\n",
    "print(len(lista_death))\n",
    "for i in range(len(lista_confirmed)):\n",
    "    #print(i[1][\"Lat\"])\n",
    "    for columna in data_salida_confirmed.columns[4:]:         \n",
    "        #print(columna)\n",
    "        #print(i[1][columna])\n",
    "        entrada[\"Province/State\"] = lista_confirmed[i][1][\"Province/State\"]\n",
    "        entrada[\"Country/Region\"] = lista_confirmed[i][1][\"Country/Region\"]\n",
    "        entrada[\"Lat\"] = lista_confirmed[i][1][\"Lat\"]\n",
    "        entrada[\"Long\"] = lista_confirmed[i][1][\"Long\"]\n",
    "        entrada[\"fecha\"] = columna\n",
    "        entrada[\"confirmados\"] = lista_confirmed[i][1][columna]\n",
    "        entrada[\"recuperados\"] = lista_recovered[i][1][columna]\n",
    "        entrada[\"fallecidos\"] = lista_death[i][1][columna]\n",
    "        #print(entrada)\n",
    "        #i[1][\"fecha\"] = columna\n",
    "        #i[1][\"numero\"] = i[1][columna]\n",
    "        #data4 = data4.append(i[1],ignore_index=True)\n",
    "        #data4 = data4.append(entrada,ignore_index=True)\n",
    "        salida.append(data_salida.append(entrada,ignore_index=True))\n",
    "        #index += 1\n",
    "data_salida = pd.concat(salida)\n",
    "\n",
    "    \n",
    "\n"
   ]
  },
  {
   "cell_type": "code",
   "execution_count": 62,
   "metadata": {},
   "outputs": [],
   "source": [
    "#data_salida_confirmed.head()\n",
    "#data_salida_recovered.head()\n",
    "#data_salida_death.head()\n",
    "#data_salida_confirmed[\"aux\"] = data_confirmed[\"3/29/20\"] - data_confirmed[\"3/28/20\"]\n",
    "data_salida.to_excel(\"test3.xlsx\",index=False)"
   ]
  },
  {
   "cell_type": "code",
   "execution_count": 63,
   "metadata": {},
   "outputs": [
    {
     "data": {
      "text/html": [
       "<div>\n",
       "<style scoped>\n",
       "    .dataframe tbody tr th:only-of-type {\n",
       "        vertical-align: middle;\n",
       "    }\n",
       "\n",
       "    .dataframe tbody tr th {\n",
       "        vertical-align: top;\n",
       "    }\n",
       "\n",
       "    .dataframe thead th {\n",
       "        text-align: right;\n",
       "    }\n",
       "</style>\n",
       "<table border=\"1\" class=\"dataframe\">\n",
       "  <thead>\n",
       "    <tr style=\"text-align: right;\">\n",
       "      <th></th>\n",
       "    </tr>\n",
       "  </thead>\n",
       "  <tbody>\n",
       "  </tbody>\n",
       "</table>\n",
       "</div>"
      ],
      "text/plain": [
       "Empty DataFrame\n",
       "Columns: []\n",
       "Index: []"
      ]
     },
     "execution_count": 63,
     "metadata": {},
     "output_type": "execute_result"
    }
   ],
   "source": [
    "data_salida.head()"
   ]
  },
  {
   "cell_type": "code",
   "execution_count": 35,
   "metadata": {},
   "outputs": [],
   "source": [
    "df = pd.DataFrame({'A': [1, 2, 3], 'B': [4, 5, 6]})\n",
    "df['C'] = 1"
   ]
  },
  {
   "cell_type": "code",
   "execution_count": null,
   "metadata": {},
   "outputs": [],
   "source": []
  }
 ],
 "metadata": {
  "kernelspec": {
   "display_name": "Python 3",
   "language": "python",
   "name": "python3"
  },
  "language_info": {
   "codemirror_mode": {
    "name": "ipython",
    "version": 3
   },
   "file_extension": ".py",
   "mimetype": "text/x-python",
   "name": "python",
   "nbconvert_exporter": "python",
   "pygments_lexer": "ipython3",
   "version": "3.7.4"
  }
 },
 "nbformat": 4,
 "nbformat_minor": 2
}
